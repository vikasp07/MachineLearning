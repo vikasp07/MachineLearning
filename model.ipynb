{
 "cells": [
  {
   "cell_type": "code",
   "execution_count": null,
   "id": "c081c0c0",
   "metadata": {
    "vscode": {
     "languageId": "plaintext"
    }
   },
   "outputs": [],
   "source": [
    "# mae :-> take the mistake difference , remove the minus sign and then find the average of all mistakes\n",
    "\n",
    "# mse :-> take the square of the mistake difference and then find the average of all squared mistakes\n",
    "\n",
    "# rmse :-> take the square root of the mse"
   ]
  }
 ],
 "metadata": {
  "language_info": {
   "name": "python"
  }
 },
 "nbformat": 4,
 "nbformat_minor": 5
}
